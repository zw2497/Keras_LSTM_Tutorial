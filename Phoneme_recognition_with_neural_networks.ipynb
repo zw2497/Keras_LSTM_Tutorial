{
  "nbformat": 4,
  "nbformat_minor": 0,
  "metadata": {
    "colab": {
      "name": "Phoneme recognition with neural networks.ipynb",
      "version": "0.3.2",
      "provenance": [],
      "collapsed_sections": [],
      "include_colab_link": true
    },
    "kernelspec": {
      "name": "python3",
      "display_name": "Python 3"
    },
    "accelerator": "GPU"
  },
  "cells": [
    {
      "cell_type": "markdown",
      "metadata": {
        "id": "view-in-github",
        "colab_type": "text"
      },
      "source": [
        "<a href=\"https://colab.research.google.com/github/zw2497/RNN/blob/master/Phoneme_recognition_with_neural_networks.ipynb\" target=\"_parent\"><img src=\"https://colab.research.google.com/assets/colab-badge.svg\" alt=\"Open In Colab\"/></a>"
      ]
    },
    {
      "metadata": {
        "id": "H3x1QnZpu74r",
        "colab_type": "text"
      },
      "cell_type": "markdown",
      "source": [
        "# Phoneme recognition with neural networks using LSTM"
      ]
    },
    {
      "metadata": {
        "id": "92L8OXYQu74t",
        "colab_type": "text"
      },
      "cell_type": "markdown",
      "source": [
        "In this Tutorial, we are going to get hands-on experience on how to use neural networks for acoustic modeling. We will use [TIMIT](https://catalog.ldc.upenn.edu/LDC93S1), a well-known audio corpus that has been used in this community for more than 20 years, for the task of phoneme recognition.\n",
        "\n",
        "As you have learnt in the course, a phoneme is a basic unit of sound which distinguishs one word from another. Typically phonemes are written between slashes, such as /$\\theta$/, /$p$/ and /d/. There are different ways to write them in different languages, and even in the same language the writing can vary from place to place. There are 61 phonemes defined in TIMIT, and the detailed explanation of them can be found in their [official documentation](https://catalog.ldc.upenn.edu/docs/LDC93S1/PHONCODE.TXT).\n",
        "\n",
        "The target of phoneme recognition is to assign a phoneme label for each short segment or frame of the audio. The general task of mapping an audio clip to a sequence of phonemes is sometimes called ***acoustic modeling***. This task is typically formulated as a classification task, and in the case of TIMIT it is equivalent to a 61-way classification problem.\n",
        "\n",
        "Prior to deep learning, a standard way to do phoneme recognition is to build a supervised GMM model on all the frames collected in the training data to maximize the posterior probability of the frames with their correct phoneme label. With deep learning, we can use neural networks to replace GMM, and typically it will lead to better performance. In this homework you will implement two models, a multilayer perceptron (MLP) and a long-short term memory network (LSTM). You can take a look at the tutorial notebook on Pytorch for deep learning if you are not familiar with how to implement them.\n",
        "\n",
        "The backbone for the entire experiment will be provided in this notebook. You need to fill in the parts given the instructions. You can use any deep learning platform that you are comfortable with."
      ]
    },
    {
      "metadata": {
        "id": "DDygQq2zu74u",
        "colab_type": "text"
      },
      "cell_type": "markdown",
      "source": [
        "## 1. Dataset loading\n",
        "\n",
        "We've already generated the features for you, so you don't need to worry about it. Please download them and put them in the same directory as this notebook (or wherever you want). Since the entire TIMIT dataset might be too large for you to run if you don't have a GPU, here we provide a subset of it which contains 462 sentences for training, 138 sentences for validation, and 92 sentences for evaluation. All sentences are truncated or zero-padded to 2 second long with 16kHz sample rate.\n",
        "\n",
        "The time-frequency representation we use as the input feature is the log-power spectrogram calculated with a 1024-point, 512-hop size STFT. For each sentence, it gives you the feature of size (513, 65), where 513 is the frequency dimension and 65 is the number of frames.\n",
        "\n",
        "All the datasets are already normalized based on the mean and standard deviation of the training set, so you don't need to make and further processing on them.\n",
        "\n",
        "Each of the dataset has two entries: the *'spec'* entry contains the normalized log-power spectrograms for all the sentences, and the *'phoneme'* entry contains the one-hot vectors. We'll explain what does 'one-hot' means in a minute."
      ]
    },
    {
      "metadata": {
        "id": "9Pn9yWfWvC-6",
        "colab_type": "code",
        "colab": {}
      },
      "cell_type": "code",
      "source": [
        "!wget https://github.com/zw2497/RNN/releases/download/v0.01/HW3-data.zip"
      ],
      "execution_count": 0,
      "outputs": []
    },
    {
      "metadata": {
        "id": "4ylM5liI6rwX",
        "colab_type": "code",
        "colab": {}
      },
      "cell_type": "code",
      "source": [
        "import zipfile\n",
        "local_zip = '/content/HW3-data.zip'\n",
        "zip_ref = zipfile.ZipFile(local_zip, 'r')\n",
        "zip_ref.extractall('/tmp/data')\n",
        "zip_ref.close()"
      ],
      "execution_count": 0,
      "outputs": []
    },
    {
      "metadata": {
        "id": "U3sSp2Qcu74v",
        "colab_type": "code",
        "colab": {}
      },
      "cell_type": "code",
      "source": [
        "# load the datasets\n",
        "import numpy as np\n",
        "import h5py\n",
        "\n",
        "import matplotlib.pyplot as plt\n",
        "%matplotlib inline\n",
        "\n",
        "base_dir = \"/tmp/data/\"\n",
        "\n",
        "tr_dataset = h5py.File( base_dir + 'tr', 'r')\n",
        "cv_dataset = h5py.File( base_dir + 'cv', 'r')\n",
        "tt_dataset = h5py.File( base_dir + 'tt', 'r')"
      ],
      "execution_count": 0,
      "outputs": []
    },
    {
      "metadata": {
        "id": "uhinn0Yzu74y",
        "colab_type": "code",
        "outputId": "55d6fe28-6bb5-46c6-e2a8-ee421505f336",
        "colab": {
          "base_uri": "https://localhost:8080/",
          "height": 609
        }
      },
      "cell_type": "code",
      "source": [
        "# the spectrograms\n",
        "tr_spec = tr_dataset['spec']\n",
        "print(tr_spec.shape)  # (num_data, freq_dim, num_frame)\n",
        "plt.figure(figsize=(20, 10))\n",
        "plt.imshow(tr_spec[10], origin='lower')\n",
        "plt.grid(False)\n",
        "plt.show()"
      ],
      "execution_count": 0,
      "outputs": [
        {
          "output_type": "stream",
          "text": [
            "(462, 513, 65)\n"
          ],
          "name": "stdout"
        },
        {
          "output_type": "display_data",
          "data": {
            "image/png": "[encoded data removed]",
            "text/plain": [
              "<Figure size 1440x720 with 1 Axes>"
            ]
          },
          "metadata": {
            "tags": []
          }
        }
      ]
    },
    {
      "metadata": {
        "id": "Su68F4zgu744",
        "colab_type": "text"
      },
      "cell_type": "markdown",
      "source": [
        "A [one-hot](https://hackernoon.com/what-is-one-hot-encoding-why-and-when-do-you-have-to-use-it-e3c6186d008f) vector means that only one entry in the vector is non-zero, and its value is 1. For example, vector [0,0,0,1] is a one-hot vector, and [1,0] is also a one-hot vector. Typically people use it to encode categorical data when they want to do classification. For example, with a binary-classification problem with label 'dog' and 'cat', you can encode the labels into 2-dimensional vectors [1,0] or [0,1]. When the label is dog, you assign [1,0] to it, meaning that the first dimension of the vector is non-zero; when the label is cat, you assign [0,1]. You can do the same for a N-way classification problem with N labels, in the way that if the *i-th* label is the correct label for a data point, its one-hot label vector should be a N-dimensional vector with its *i-th* entry equals to one.\n",
        "\n",
        "To describe it in a slightly more mathematical way, a binary vector $L\\in \\{0, 1\\}^{N}$ is a one-hot vector when $\\Sigma_N L = 1$, and the corresponding label index is $argmax(L)$.\n",
        "\n",
        "Since there are 61 phonemes defined in TIMIT, the label of each frame in the dataset is represented by a 61-dimensional one-hot vector:"
      ]
    },
    {
      "metadata": {
        "id": "NG8sEBAJu745",
        "colab_type": "code",
        "outputId": "c7e8cdf4-8c82-4fcb-e926-6824facb14cf",
        "colab": {
          "base_uri": "https://localhost:8080/",
          "height": 136
        }
      },
      "cell_type": "code",
      "source": [
        "tr_phoneme = tr_dataset['phoneme']\n",
        "print(tr_phoneme.shape)  # (num_data, num_frame, num_phoneme)\n",
        "print(tr_phoneme[0,0])  # a sample of one-hot phoneme vector\n",
        "print(np.argmax(tr_phoneme[0,:,:], 1))  # the phoneme labels for each frame in the phoneme list"
      ],
      "execution_count": 0,
      "outputs": [
        {
          "output_type": "stream",
          "text": [
            "(462, 65, 61)\n",
            "[1. 0. 0. 0. 0. 0. 0. 0. 0. 0. 0. 0. 0. 0. 0. 0. 0. 0. 0. 0. 0. 0. 0. 0.\n",
            " 0. 0. 0. 0. 0. 0. 0. 0. 0. 0. 0. 0. 0. 0. 0. 0. 0. 0. 0. 0. 0. 0. 0. 0.\n",
            " 0. 0. 0. 0. 0. 0. 0. 0. 0. 0. 0. 0. 0.]\n",
            "[ 0  0  0  0  0 24 24  2  2  2 39 39 29 29  2  2  2 25 25 53 53 53 53 15\n",
            " 15  7  7  8 10 10 31 31 31 31 31 12 12 12 12 12 12 12 12 12 12 12 12  0\n",
            "  0  0  0  0  0  0  0  0  0  0  0  0  0  0  0  0  0]\n"
          ],
          "name": "stdout"
        }
      ]
    },
    {
      "metadata": {
        "id": "SJI3pZv1u749",
        "colab_type": "text"
      },
      "cell_type": "markdown",
      "source": [
        "For your information, you can find the entire phoneme list in the *phoneme_list.npy* file we provided."
      ]
    },
    {
      "metadata": {
        "id": "d-IXAoKou74-",
        "colab_type": "code",
        "outputId": "a4f62451-d9db-45a9-c8e5-55d9e5c038bf",
        "colab": {
          "base_uri": "https://localhost:8080/",
          "height": 119
        }
      },
      "cell_type": "code",
      "source": [
        "phoneme_list = np.load(base_dir + 'phoneme_list.npy')\n",
        "print(\"All phonemes:\", phoneme_list)\n",
        "\n",
        "# an example phoneme sequence for a sentence\n",
        "phoneme_index = np.argmax(tr_phoneme[0,:,:], 1)\n",
        "prev_phoneme = ''\n",
        "print('An Example phoneme sequence:', end=\" \")\n",
        "for index in phoneme_index:\n",
        "    current_phoneme = phoneme_list[index]\n",
        "    if current_phoneme != prev_phoneme:\n",
        "        print(current_phoneme, end=\" \")\n",
        "    prev_phoneme = current_phoneme"
      ],
      "execution_count": 0,
      "outputs": [
        {
          "output_type": "stream",
          "text": [
            "All phonemes: ['h#' 'sh' 'iy' 'hv' 'ae' 'zh' 'ax-h' 'dcl' 'd' 'aa' 'r' 'kcl' 's' 'ux'\n",
            " 'dx' 'ix' 'n' 'gcl' 'g' 'w' 'epi' 'uh' 'axr' 'ao' 'l' 'y' 'ih' 'ow' 'nx'\n",
            " 'm' 'k' 'eh' 'oy' 'ay' 'dh' 'tcl' 'bcl' 'b' 'ah' 'v' 't' 'ch' 'q' 'en'\n",
            " 'z' 'f' 'ey' 'ax' 'pcl' 'p' 'hh' 'jh' 'ng' 'er' 'th' 'em' 'aw' 'el' 'pau'\n",
            " 'uw' 'eng']\n",
            "An Example phoneme sequence: h# l iy v m iy y er ix dcl d r eh s h# "
          ],
          "name": "stdout"
        }
      ]
    },
    {
      "metadata": {
        "id": "DJuY1DpBu75C",
        "colab_type": "text"
      },
      "cell_type": "markdown",
      "source": [
        "Create your data loading functions for the three datasets above. Use the training set for training and the validation set for selecting the best model during training. After you finished training and selected the best performance model on the validation set, test your model on the test set.\n",
        "\n",
        "Note that some of the sentences were zero-padded at the end to 2 seconds when generating the dataset to make sure all sentences have the same length, and there's no phoneme label for the zero-padded frames. It will run into trouble when we design the training objective function later, and we will talk about it in the later cells. Here when you write your data loading functions, make sure to also load the length of each sentence:"
      ]
    },
    {
      "metadata": {
        "id": "1Pb61dKgu75D",
        "colab_type": "code",
        "outputId": "9d6f5093-64dd-4c4c-9082-9bd7f1eedc7c",
        "colab": {
          "base_uri": "https://localhost:8080/",
          "height": 34
        }
      },
      "cell_type": "code",
      "source": [
        "# length (number of non-zero-padded frames) for each sentence\n",
        "actual_num_frame = tr_dataset['length']\n",
        "print(actual_num_frame[:10])  # number of valid frames for each log-power spectrogram"
      ],
      "execution_count": 0,
      "outputs": [
        {
          "output_type": "stream",
          "text": [
            "[47 63 63 63 63 63 63 63 63 58]\n"
          ],
          "name": "stdout"
        }
      ]
    },
    {
      "metadata": {
        "id": "24cmT9Pb2x4W",
        "colab_type": "code",
        "outputId": "954fca36-8f9e-4d9f-add5-1377517a6ca6",
        "colab": {
          "base_uri": "https://localhost:8080/",
          "height": 136
        }
      },
      "cell_type": "code",
      "source": [
        "tr_spec = np.array(tr_dataset['spec'])\n",
        "tr_phoneme = np.array(tr_dataset['phoneme'])\n",
        "tr_length = tr_dataset['length']\n",
        "train_x = np.array(tr_spec).astype('float32')\n",
        "train_x = np.swapaxes(train_x,1,2)\n",
        "train_y = np.array(tr_phoneme).astype('float32')\n",
        "train_l = np.array(tr_length).reshape(train_x.shape[0],1).astype('float32')\n",
        "# train_x = train_x.reshape(train_x.shape[0] * train_x.shape[1], train_x.shape[2])\n",
        "# train_y = train_y.reshape(train_y.shape[0] * train_y.shape[1], train_y.shape[2])\n",
        "\n",
        "cv_spec = np.array(cv_dataset['spec'])\n",
        "cv_phoneme = np.array(cv_dataset['phoneme'])\n",
        "cv_length = cv_dataset['length']\n",
        "val_x = np.array(cv_spec).astype('float32')\n",
        "val_x = np.swapaxes(val_x,1,2).astype('float32')\n",
        "val_y = np.array(cv_phoneme).astype('float32')\n",
        "val_l = np.array(cv_length).reshape(val_x.shape[0],1).astype('float32')\n",
        "# val_x = val_x.reshape(val_x.shape[0] * val_x.shape[1], val_x.shape[2])\n",
        "# val_y = np.array(cv_phoneme).reshape(138 * 65, 61)\n",
        "\n",
        "tt_spec = np.array(tt_dataset['spec'])\n",
        "tt_phoneme = np.array(tt_dataset['phoneme'])\n",
        "tt_length = tt_dataset['length']\n",
        "test_x = np.array(tt_spec).astype('float32')\n",
        "test_x = np.swapaxes(test_x,1,2).astype('float32')\n",
        "test_y = np.array(tt_phoneme).astype('float32')\n",
        "test_l = np.array(tt_length).reshape(test_x.shape[0],1).astype('float32')\n",
        "# test_x = test_x.reshape(test_x.shape[0] * test_x.shape[1], test_x.shape[2])\n",
        "# test_y = np.array(tt_phoneme).reshape(92 * 65, 61)\n",
        "\n",
        "print(train_x.shape)\n",
        "print(train_y.shape)\n",
        "print(train_l.shape)\n",
        "print(val_x.shape)\n",
        "print(val_y.shape)\n",
        "print(test_x.shape)\n",
        "print(test_y.shape)"
      ],
      "execution_count": 0,
      "outputs": [
        {
          "output_type": "stream",
          "text": [
            "(462, 65, 513)\n",
            "(462, 65, 61)\n",
            "(462, 1)\n",
            "(138, 65, 513)\n",
            "(138, 65, 61)\n",
            "(92, 65, 513)\n",
            "(92, 65, 61)\n"
          ],
          "name": "stdout"
        }
      ]
    },
    {
      "metadata": {
        "id": "_GsW8ZlCa8K6",
        "colab_type": "code",
        "colab": {}
      },
      "cell_type": "code",
      "source": [
        "!pip install tf-nightly-gpu-2.0-preview"
      ],
      "execution_count": 0,
      "outputs": []
    },
    {
      "metadata": {
        "id": "5RgE-ANyu75H",
        "colab_type": "code",
        "colab": {}
      },
      "cell_type": "code",
      "source": [
        "import tensorflow as tf\n",
        "import numpy as np\n",
        "from tensorflow import keras\n",
        "from tensorflow.keras import Model\n",
        "from tensorflow.keras.layers import Dense, Dropout, Flatten, LSTM\n",
        "import time\n",
        "\n",
        "batch_size = 32\n",
        "train_dataset = tf.data.Dataset.from_tensor_slices((train_x, train_y, train_l)).batch(batch_size)\n",
        "val_dataset = tf.data.Dataset.from_tensor_slices((val_x, val_y, val_l)).batch(batch_size)\n",
        "test_dataset = tf.data.Dataset.from_tensor_slices((test_x, test_y, test_l)).batch(batch_size)"
      ],
      "execution_count": 0,
      "outputs": []
    },
    {
      "metadata": {
        "id": "sKIbJKZGTaRu",
        "colab_type": "code",
        "outputId": "5f868e4c-e7a7-4b6d-b725-3ac55760639c",
        "colab": {
          "base_uri": "https://localhost:8080/",
          "height": 74
        }
      },
      "cell_type": "code",
      "source": [
        "train_dataset"
      ],
      "execution_count": 0,
      "outputs": [
        {
          "output_type": "execute_result",
          "data": {
            "text/plain": [
              "<BatchDataset shapes: ((None, 65, 513), (None, 65, 61), (None, 1)), types: (tf.float32, tf.float32, tf.float32)>"
            ]
          },
          "metadata": {
            "tags": []
          },
          "execution_count": 226
        }
      ]
    },
    {
      "metadata": {
        "id": "N1xYXuFbu75R",
        "colab_type": "text"
      },
      "cell_type": "markdown",
      "source": [
        "Next we define the hyperparameters of the experiment. Following the procedure in the tutorial, we also use argparse to build a parser to store the hyperparameters. Feel free to change the values below according to your model configurations!"
      ]
    },
    {
      "metadata": {
        "id": "HrBIaP79u75U",
        "colab_type": "text"
      },
      "cell_type": "markdown",
      "source": [
        "Then you can start build your model. First please implement a 3-layer MLP with 128 hidden units in each layer. You also need to define the optimizer of your model. If you want, you can also have learning rate scheduler to dynamically adjust your learning rate during training.\n",
        "\n",
        "The typical nonlinear function for the output layer for classification tasks is the [Softmax function](https://en.wikipedia.org/wiki/Softmax_function). *Softmax* is a smoothed approximation of the *argmax* function that allows you to calculate the gradient and perform back-propagation. Softmax returns a probability distribution, so if it returns a K-dimensional vector $x\\in \\mathbb{R}^K$, it satisfies $\\sum_{i=1}^K x_i = 1$ and $x_i > 0$. An example output for a 2-way classification task with *Softmax* as output nonlinear function could be [0.2, 0.8], [0.33, 0.67] or [0.91, 0.09]."
      ]
    },
    {
      "metadata": {
        "id": "H3ivjwkVu75V",
        "colab_type": "code",
        "colab": {}
      },
      "cell_type": "code",
      "source": [
        "# TODO: build a MLP. The output layer uses Softmax as the nonlinear function\n",
        "def MyModel():\n",
        "    model = tf.keras.Sequential()\n",
        "    model.add(Dense(128, activation='relu'))\n",
        "    model.add(Dense(128, activation='relu'))\n",
        "    model.add(Dense(61, activation='softmax'))\n",
        "    return model"
      ],
      "execution_count": 0,
      "outputs": []
    },
    {
      "metadata": {
        "id": "2kjhyCW_u75W",
        "colab_type": "text"
      },
      "cell_type": "markdown",
      "source": [
        "To evaluate how close is your *Softmax* output to the actual one-hot label vector, you need a measurement function. The typical objective function in classification tasks is the [binary-cross entropy function (BCE)](https://towardsdatascience.com/understanding-binary-cross-entropy-log-loss-a-visual-explanation-a3ac6025181a). When the output from *Softmax*, also noted as the ***predicted probability distribution*** of the labels, is close to the actual one-hot label vector, the BCE value should be close to zero. So the target will be to minimize the BCE function. The general formular for BCE is:\n",
        "\n",
        "$BCE = \\frac{1}{N} \\sum_{i=1}^N - (y_i\\times log(x_i) + (1-y_i)\\times log(1-x_i))$\n",
        "\n",
        "where $y\\in \\{0, 1\\}^N$ is the N-dimensional one-hot label vector, and $x\\in \\mathbb{R}^N$ is the output from Softmax function. $N$ is the number of labels, and here $N=61$ since we have 61 phoneme types.\n",
        "\n",
        "If you are not familiar with Softmax, BCE or the general classification problem with DL, you can check the [Pytorch function for Softmax](https://pytorch.org/docs/stable/nn.html?highlight=softmax#torch.nn.Softmax), [BCE](https://pytorch.org/docs/stable/nn.html?highlight=bce#torch.nn.BCELoss), and a [video tutorial for Softmax classification in Pytorch](https://www.youtube.com/watch?v=lvNdl7yg4Pg). You can also find many other online tutorials about this.\n",
        "\n",
        "Note that we previously mentioned that some of the sentences were zero-padded, and there's no valid phoneme label for those frames. In the dataset the labels for those zero-padded frames were zero vectors instead of one-hot vectors, and it will run into trouble when we applly BCE loss on them. In order to discard those frames when calculating the objective function, we use a ***binary masking vector*** to mask out those frames. A binary masking vector is a vector whose first K elements are 1 and all the rest elements are 0. When multiplying it with another vector $p$, only the first K values in $p$ is preserved. Here we use it to 'mask out' the zero-padded frames, so they won't be considered in the objective function as well as backpropagation. Here is an example in Numpy:"
      ]
    },
    {
      "metadata": {
        "id": "L-qByS5uu75Z",
        "colab_type": "text"
      },
      "cell_type": "markdown",
      "source": [
        "Now it's your turn to implement it in your deep learning platform."
      ]
    },
    {
      "metadata": {
        "id": "0s54SBC-u75Z",
        "colab_type": "code",
        "colab": {}
      },
      "cell_type": "code",
      "source": [
        "# implement the cross-entropy objective function\n",
        "def cross_loss(logits, label, length):\n",
        "    \n",
        "    batch_size = logits.shape[0]\n",
        "\n",
        "    actual_frame = tf.constant(length)  # B,\n",
        "    binary_mask = np.zeros((batch_size, label.shape[1]))  # B, T\n",
        "    \n",
        "    for i in range(batch_size):\n",
        "        binary_mask[i,:actual_frame[i]] = 1.\n",
        "\n",
        "    # see how many non-zero entries are there\n",
        "\n",
        "    # calculate BCE between output probability distribution and label\n",
        "    bce_loss = - (label * tf.math.log(logits) + (1. - label) * tf.math.log(1. - logits))  # B, T, 61\n",
        "    bce_loss = tf.reduce_mean(bce_loss, 2)  # B, T\n",
        "\n",
        "    # multiple the binary mask with bce loss to mask out the last few zero-padded frames\n",
        "    masked_bce_loss = binary_mask * bce_loss  # B, T\n",
        "\n",
        "    # calculate the mean of it for back-propagation, only consider the valid frames\n",
        "    average_masked_bce = tf.reduce_sum(masked_bce_loss, 1) / actual_frame  # B\n",
        "    average_masked_bce = tf.reduce_mean(average_masked_bce)\n",
        "    return average_masked_bce\n",
        "\n",
        "# build the model optimizer with Adam, SGD, RMSProp, etc.\n",
        "optimizer = tf.keras.optimizers.Adam()"
      ],
      "execution_count": 0,
      "outputs": []
    },
    {
      "metadata": {
        "id": "2sItJ0evu75a",
        "colab_type": "text"
      },
      "cell_type": "markdown",
      "source": [
        "Note that BCE only gives you a value, but cannot tell you how many frames have been correctly categorized. To measure the classification accuracy, you also need to define another function to cound the total number of frames that has been correctly labeled. Here is an example in Numpy:"
      ]
    },
    {
      "metadata": {
        "id": "dW3MrSEUu75c",
        "colab_type": "text"
      },
      "cell_type": "markdown",
      "source": [
        "Here the operations are done in Numpy, so you either need to transform your Pytorch/Keras/Tensorflow data into Numpy format, or to implement them in the platform you select. Also make sure you are calculating the total number of correct frames across all the batches, since you will perform batch training."
      ]
    },
    {
      "metadata": {
        "id": "U6XCNlviu75d",
        "colab_type": "code",
        "colab": {}
      },
      "cell_type": "code",
      "source": [
        "# implement the function for classification accuracy\n",
        "def calc_accuracy(logits, labels):\n",
        "    # the label index for the predicted output probability\n",
        "    logits = logits.numpy().reshape(logits.shape[0] * logits.shape[1], logits.shape[2])\n",
        "    labels = labels.reshape(labels.shape[0] * labels.shape[1], labels.shape[2])\n",
        "\n",
        "    predicted_label_index = np.argmax(logits, axis=1)\n",
        "    target_label_index = np.argmax(labels, axis=1)\n",
        "    correct_frame = np.sum(tf.equal(predicted_label_index, target_label_index))\n",
        "    return correct_frame * 100. / logits.shape[0]"
      ],
      "execution_count": 0,
      "outputs": []
    },
    {
      "metadata": {
        "id": "VCm12Kr8ka4q",
        "colab_type": "code",
        "outputId": "6b819b31-524b-4c35-b716-35d57ee84d11",
        "colab": {
          "base_uri": "https://localhost:8080/",
          "height": 34
        }
      },
      "cell_type": "code",
      "source": [
        "calc_accuracy(model(train_x), train_y)"
      ],
      "execution_count": 0,
      "outputs": [
        {
          "output_type": "execute_result",
          "data": {
            "text/plain": [
              "48.07525807525808"
            ]
          },
          "metadata": {
            "tags": []
          },
          "execution_count": 233
        }
      ]
    },
    {
      "metadata": {
        "id": "sLv-Iaxbu75e",
        "colab_type": "text"
      },
      "cell_type": "markdown",
      "source": [
        "Next you need to define the functions for training and validation. You can follow my pipeline in the Pytorch tutorial, or you can also use your own template. \n",
        "\n",
        "When selecting the best performance model in the validation set, you can either use BCE value or the classification accuracy as the indicator. I would recommend you to use BCE value for learning rate scheduling (if you have it), and classification accuracy for finding the best model."
      ]
    },
    {
      "metadata": {
        "id": "-PRZqJRNu75f",
        "colab_type": "code",
        "colab": {}
      },
      "cell_type": "code",
      "source": [
        "# function for training\n",
        "def train_step(train, label, length):\n",
        "    with tf.GradientTape() as tape:\n",
        "        logits = model(train, training=True)\n",
        "        bce_loss = cross_loss(logits, label, length)\n",
        "\n",
        "    gradient = tape.gradient(bce_loss, model.trainable_variables)\n",
        "    optimizer.apply_gradients(zip(gradient, model.trainable_variables))\n"
      ],
      "execution_count": 0,
      "outputs": []
    },
    {
      "metadata": {
        "id": "YraM8mrCu75g",
        "colab_type": "text"
      },
      "cell_type": "markdown",
      "source": [
        "Finally you can start the training and validation. Save the best model you find."
      ]
    },
    {
      "metadata": {
        "id": "hDhIYppgu75g",
        "colab_type": "code",
        "colab": {}
      },
      "cell_type": "code",
      "source": [
        "def train(dataset, epochs):  \n",
        "    for epoch in range(epochs):\n",
        "        start = time.time()\n",
        "        for (batch, (train_65_513, label_65_61, length_1)) in enumerate(train_dataset):\n",
        "            train_step(train_65_513, label_65_61, length_1)\n",
        "            \n",
        "        acc_tr = calc_accuracy(model(train_x), train_y)\n",
        "        acc_cv = calc_accuracy(model(val_x), val_y)\n",
        "        print('Train accuracy %.2f' % acc_tr)\n",
        "        print('Test accuracy %.2f' % acc_cv)\n",
        "        print ('Time for epoch {} is {} sec \\n'.format(epoch + 1, time.time()-start))"
      ],
      "execution_count": 0,
      "outputs": []
    },
    {
      "metadata": {
        "id": "1s8dSR4jaPSG",
        "colab_type": "code",
        "outputId": "9ace52b2-72b9-46bb-d462-f472e95af14e",
        "colab": {
          "base_uri": "https://localhost:8080/",
          "height": 1411
        }
      },
      "cell_type": "code",
      "source": [
        "%%time\n",
        "acc = []\n",
        "val_acc = []\n",
        "model = MyModel()\n",
        "epochs = 20\n",
        "train(train_dataset, epochs)"
      ],
      "execution_count": 0,
      "outputs": [
        {
          "output_type": "stream",
          "text": [
            "Train accuracy 23.79\n",
            "Test accuracy 24.65\n",
            "Time for epoch 1 is 0.8391127586364746 sec \n",
            "\n",
            "Train accuracy 26.97\n",
            "Test accuracy 27.66\n",
            "Time for epoch 2 is 0.7744810581207275 sec \n",
            "\n",
            "Train accuracy 29.10\n",
            "Test accuracy 29.74\n",
            "Time for epoch 3 is 0.7668559551239014 sec \n",
            "\n",
            "Train accuracy 30.84\n",
            "Test accuracy 31.13\n",
            "Time for epoch 4 is 0.7251977920532227 sec \n",
            "\n",
            "Train accuracy 32.26\n",
            "Test accuracy 32.11\n",
            "Time for epoch 5 is 0.7201511859893799 sec \n",
            "\n",
            "Train accuracy 33.50\n",
            "Test accuracy 32.64\n",
            "Time for epoch 6 is 0.7141437530517578 sec \n",
            "\n",
            "Train accuracy 34.46\n",
            "Test accuracy 33.37\n",
            "Time for epoch 7 is 0.7188770771026611 sec \n",
            "\n",
            "Train accuracy 35.39\n",
            "Test accuracy 33.78\n",
            "Time for epoch 8 is 0.728510856628418 sec \n",
            "\n",
            "Train accuracy 36.09\n",
            "Test accuracy 34.08\n",
            "Time for epoch 9 is 0.7141680717468262 sec \n",
            "\n",
            "Train accuracy 36.83\n",
            "Test accuracy 34.54\n",
            "Time for epoch 10 is 0.7249984741210938 sec \n",
            "\n",
            "Train accuracy 37.58\n",
            "Test accuracy 34.84\n",
            "Time for epoch 11 is 0.7314774990081787 sec \n",
            "\n",
            "Train accuracy 38.08\n",
            "Test accuracy 35.33\n",
            "Time for epoch 12 is 0.7166469097137451 sec \n",
            "\n",
            "Train accuracy 38.78\n",
            "Test accuracy 35.59\n",
            "Time for epoch 13 is 0.726834774017334 sec \n",
            "\n",
            "Train accuracy 39.30\n",
            "Test accuracy 35.88\n",
            "Time for epoch 14 is 0.7233107089996338 sec \n",
            "\n",
            "Train accuracy 39.90\n",
            "Test accuracy 36.05\n",
            "Time for epoch 15 is 0.7248187065124512 sec \n",
            "\n",
            "Train accuracy 40.35\n",
            "Test accuracy 36.13\n",
            "Time for epoch 16 is 0.7227284908294678 sec \n",
            "\n",
            "Train accuracy 40.81\n",
            "Test accuracy 36.11\n",
            "Time for epoch 17 is 0.730182409286499 sec \n",
            "\n",
            "Train accuracy 41.29\n",
            "Test accuracy 36.32\n",
            "Time for epoch 18 is 0.7191150188446045 sec \n",
            "\n",
            "Train accuracy 41.62\n",
            "Test accuracy 36.16\n",
            "Time for epoch 19 is 0.7049672603607178 sec \n",
            "\n",
            "Train accuracy 42.02\n",
            "Test accuracy 36.15\n",
            "Time for epoch 20 is 0.7182531356811523 sec \n",
            "\n",
            "CPU times: user 15.9 s, sys: 1.48 s, total: 17.4 s\n",
            "Wall time: 14.7 s\n"
          ],
          "name": "stdout"
        }
      ]
    },
    {
      "metadata": {
        "id": "-Su-MKFju75h",
        "colab_type": "text"
      },
      "cell_type": "markdown",
      "source": [
        "And by the end you need to evaluate your model in the test set. The procedure is exactly the same as what you do in the validation set, so you can actually simply call the function you write for validation on the test set. Print the classification accuracy."
      ]
    },
    {
      "metadata": {
        "id": "RPuEeJJQu75i",
        "colab_type": "code",
        "outputId": "9c13dbd3-73e3-4112-8d3c-bda94bab8b9e",
        "colab": {
          "base_uri": "https://localhost:8080/",
          "height": 34
        }
      },
      "cell_type": "code",
      "source": [
        "# test your model on the test set\n",
        "acc_tt = calc_accuracy(model(test_x), test_y)\n",
        "print(acc_tt)"
      ],
      "execution_count": 0,
      "outputs": [
        {
          "output_type": "stream",
          "text": [
            "35.03344481605351\n"
          ],
          "name": "stdout"
        }
      ]
    },
    {
      "metadata": {
        "id": "C_S4LDpou75j",
        "colab_type": "text"
      },
      "cell_type": "markdown",
      "source": [
        "Next you will need to implement a one-layer LSTM network with 128 hidden units on the same task. You can also follow the pipeline in the tutorial for the implementation."
      ]
    },
    {
      "metadata": {
        "id": "UIwxLbDzu75j",
        "colab_type": "code",
        "colab": {}
      },
      "cell_type": "code",
      "source": [
        "# a 1-layer LSTM network with a FC layer for Softmax output\n",
        "def MyModelLSTM():\n",
        "    model = tf.keras.Sequential()   \n",
        "    model.add(LSTM(128, activation='tanh', return_sequences= True))\n",
        "    model.add(Dense(61, activation='softmax'))\n",
        "    return model\n",
        "\n",
        "# define optimizer\n",
        "optimizer = tf.keras.optimizers.Adam()\n",
        "# The objective function should be the same, just to be careful about the shape of the output in the two models"
      ],
      "execution_count": 0,
      "outputs": []
    },
    {
      "metadata": {
        "id": "pwmJX6GUu75k",
        "colab_type": "text"
      },
      "cell_type": "markdown",
      "source": [
        "And then do the same training/validation/testing. You don't need to re-implement those functions, just use the ones you defined above with this model. Print the classification accuracy."
      ]
    },
    {
      "metadata": {
        "id": "8SSfxlU0BqU9",
        "colab_type": "code",
        "outputId": "c697aa1b-7cdc-4fdb-cd36-44f5b1ce1ca1",
        "colab": {
          "base_uri": "https://localhost:8080/",
          "height": 111
        }
      },
      "cell_type": "code",
      "source": [
        "model = MyModelLSTM()\n",
        "model(train_x).shape"
      ],
      "execution_count": 0,
      "outputs": [
        {
          "output_type": "stream",
          "text": [
            "W0303 02:57:18.300682 140068014978944 tf_logging.py:161] <tensorflow.python.keras.layers.recurrent.UnifiedLSTM object at 0x7f63a004e828>: Note that this layer is not optimized for performance. Please use tf.keras.layers.CuDNNLSTM for better performance on GPU.\n"
          ],
          "name": "stderr"
        },
        {
          "output_type": "execute_result",
          "data": {
            "text/plain": [
              "TensorShape([462, 65, 61])"
            ]
          },
          "metadata": {
            "tags": []
          },
          "execution_count": 55
        }
      ]
    },
    {
      "metadata": {
        "id": "-sLhkpmSu6P0",
        "colab_type": "code",
        "outputId": "dee9e4e3-d1f7-4399-89ea-d59cc32fc1c0",
        "colab": {
          "base_uri": "https://localhost:8080/",
          "height": 1788
        }
      },
      "cell_type": "code",
      "source": [
        "%%time\n",
        "acc = []\n",
        "val_acc = []\n",
        "model = MyModelLSTM()\n",
        "epochs = 25\n",
        "train(train_dataset, epochs)"
      ],
      "execution_count": 0,
      "outputs": [
        {
          "output_type": "stream",
          "text": [
            "W0303 03:02:24.448110 140068014978944 tf_logging.py:161] <tensorflow.python.keras.layers.recurrent.UnifiedLSTM object at 0x7f6376f71c88>: Note that this layer is not optimized for performance. Please use tf.keras.layers.CuDNNLSTM for better performance on GPU.\n"
          ],
          "name": "stderr"
        },
        {
          "output_type": "stream",
          "text": [
            "Train accuracy 29.38\n",
            "Test accuracy 28.80\n",
            "Time for epoch 1 is 1.0738818645477295 sec \n",
            "\n",
            "Train accuracy 35.88\n",
            "Test accuracy 34.34\n",
            "Time for epoch 2 is 1.0332038402557373 sec \n",
            "\n",
            "Train accuracy 41.08\n",
            "Test accuracy 37.87\n",
            "Time for epoch 3 is 1.0351083278656006 sec \n",
            "\n",
            "Train accuracy 44.24\n",
            "Test accuracy 39.60\n",
            "Time for epoch 4 is 1.0242724418640137 sec \n",
            "\n",
            "Train accuracy 47.98\n",
            "Test accuracy 40.97\n",
            "Time for epoch 5 is 1.0319719314575195 sec \n",
            "\n",
            "Train accuracy 50.52\n",
            "Test accuracy 41.52\n",
            "Time for epoch 6 is 1.0397872924804688 sec \n",
            "\n",
            "Train accuracy 53.69\n",
            "Test accuracy 42.26\n",
            "Time for epoch 7 is 1.0198259353637695 sec \n",
            "\n",
            "Train accuracy 56.05\n",
            "Test accuracy 42.64\n",
            "Time for epoch 8 is 1.0291836261749268 sec \n",
            "\n",
            "Train accuracy 58.33\n",
            "Test accuracy 43.17\n",
            "Time for epoch 9 is 1.0430152416229248 sec \n",
            "\n",
            "Train accuracy 60.49\n",
            "Test accuracy 43.24\n",
            "Time for epoch 10 is 1.035017967224121 sec \n",
            "\n",
            "Train accuracy 62.55\n",
            "Test accuracy 43.40\n",
            "Time for epoch 11 is 1.027392864227295 sec \n",
            "\n",
            "Train accuracy 64.34\n",
            "Test accuracy 43.58\n",
            "Time for epoch 12 is 1.0383641719818115 sec \n",
            "\n",
            "Train accuracy 66.10\n",
            "Test accuracy 43.89\n",
            "Time for epoch 13 is 1.023106336593628 sec \n",
            "\n",
            "Train accuracy 67.14\n",
            "Test accuracy 43.58\n",
            "Time for epoch 14 is 1.029982566833496 sec \n",
            "\n",
            "Train accuracy 68.62\n",
            "Test accuracy 43.97\n",
            "Time for epoch 15 is 1.0333473682403564 sec \n",
            "\n",
            "Train accuracy 70.32\n",
            "Test accuracy 43.92\n",
            "Time for epoch 16 is 1.025231122970581 sec \n",
            "\n",
            "Train accuracy 71.38\n",
            "Test accuracy 43.92\n",
            "Time for epoch 17 is 1.0284419059753418 sec \n",
            "\n",
            "Train accuracy 73.06\n",
            "Test accuracy 44.41\n",
            "Time for epoch 18 is 1.029386281967163 sec \n",
            "\n",
            "Train accuracy 74.47\n",
            "Test accuracy 44.75\n",
            "Time for epoch 19 is 1.0285437107086182 sec \n",
            "\n",
            "Train accuracy 75.53\n",
            "Test accuracy 43.89\n",
            "Time for epoch 20 is 1.0338332653045654 sec \n",
            "\n",
            "Train accuracy 76.47\n",
            "Test accuracy 43.58\n",
            "Time for epoch 21 is 1.0388259887695312 sec \n",
            "\n",
            "Train accuracy 77.74\n",
            "Test accuracy 43.69\n",
            "Time for epoch 22 is 1.0390450954437256 sec \n",
            "\n",
            "Train accuracy 77.75\n",
            "Test accuracy 42.90\n",
            "Time for epoch 23 is 1.0357933044433594 sec \n",
            "\n",
            "Train accuracy 77.61\n",
            "Test accuracy 42.41\n",
            "Time for epoch 24 is 1.0451407432556152 sec \n",
            "\n",
            "Train accuracy 78.77\n",
            "Test accuracy 42.78\n",
            "Time for epoch 25 is 1.0493934154510498 sec \n",
            "\n",
            "CPU times: user 24.7 s, sys: 2.45 s, total: 27.2 s\n",
            "Wall time: 25.9 s\n"
          ],
          "name": "stdout"
        }
      ]
    },
    {
      "metadata": {
        "id": "riuR8m2P7d5X",
        "colab_type": "code",
        "outputId": "fc9d634f-84ef-4410-c604-a8e950909789",
        "colab": {
          "base_uri": "https://localhost:8080/",
          "height": 34
        }
      },
      "cell_type": "code",
      "source": [
        "# TODO: test your model on the test set\n",
        "acc_tt = calc_accuracy(model(test_x), test_y)\n",
        "print(acc_tt)"
      ],
      "execution_count": 0,
      "outputs": [
        {
          "output_type": "stream",
          "text": [
            "42.290969899665555\n"
          ],
          "name": "stdout"
        }
      ]
    }
  ]
}